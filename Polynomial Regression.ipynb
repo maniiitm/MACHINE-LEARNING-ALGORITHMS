{
  "nbformat": 4,
  "nbformat_minor": 0,
  "metadata": {
    "colab": {
      "name": "Untitled4.ipynb",
      "provenance": []
    },
    "kernelspec": {
      "name": "python3",
      "display_name": "Python 3"
    },
    "language_info": {
      "name": "python"
    }
  },
  "cells": [
    {
      "cell_type": "markdown",
      "source": [
        "Polynomial Regression in Python\n",
        "like0\n",
        "dislike0\n",
        "\n",
        "In this implementation, we have taken a dummy dataset that comprises the designations, years of experience and salaries of 10 employees of a company. We will try to fit a relationship between the years of experience and the salaries of the employees. For this purpose, first, we will fit a linear regression model and see how it fits the relation and then we will fit the polynomial regression model for the same. Finally, we will be able to identify the differences between linear regression and polynomial regression. We will also be able to understand when the polynomial regression model should be preferred over the linear regression model.\n",
        "\n",
        "We will do this hands-on implementation by going through the steps given below.\n",
        "\n"
      ],
      "metadata": {
        "id": "JXTvXuHx5_fs"
      }
    },
    {
      "cell_type": "markdown",
      "source": [
        "FIRST WE WILL IMPORT ALL THE REQUIRED ALL THE MODULES"
      ],
      "metadata": {
        "id": "aQx4jW_d2tTX"
      }
    },
    {
      "cell_type": "code",
      "source": [
        "import pandas as pd\n",
        "import numpy as np\n",
        "import matplotlib.pyplot as plt\n"
      ],
      "metadata": {
        "id": "-e1qRxsn_EaA"
      },
      "execution_count": null,
      "outputs": []
    },
    {
      "cell_type": "markdown",
      "source": [
        "NEXT WE WILL READ THE CSV FILE USING PANDAS PD DATA FRAME"
      ],
      "metadata": {
        "id": "GYZcxCS_2r7g"
      }
    },
    {
      "cell_type": "code",
      "source": [
        "df = pd.read_csv('https://gitlab.com/AnalyticsIndiaMagazine/practicedatasets/-/raw/main/bootcamp/polynomial_regression/Experience_Salaries.csv')"
      ],
      "metadata": {
        "id": "KFmqIOjl2qmw"
      },
      "execution_count": null,
      "outputs": []
    },
    {
      "cell_type": "markdown",
      "source": [
        "NEXT WE WILL SEE THE FILE BY PRINTING IT"
      ],
      "metadata": {
        "id": "wq1_IC943VnN"
      }
    },
    {
      "cell_type": "code",
      "source": [
        "print(df)"
      ],
      "metadata": {
        "colab": {
          "base_uri": "https://localhost:8080/"
        },
        "id": "_YJAW8rZ_Uof",
        "outputId": "891c276e-6b1a-40a3-9c55-7e5c1e5d4f8b"
      },
      "execution_count": null,
      "outputs": [
        {
          "output_type": "stream",
          "name": "stdout",
          "text": [
            "                 Designation  Experience  Salary\n",
            "0            Sales Executive           1   50000\n",
            "1            Office Asistant           2   55000\n",
            "2          Software Engineer           3   85000\n",
            "3              Sales Manager           4  100000\n",
            "4          Assistant Manager           5  125000\n",
            "5                    HR Head           7  120000\n",
            "6  Technical Project Manager           9  135000\n",
            "7             Senior Manager          10  140000\n",
            "8             Marketing Head          12  120000\n",
            "9                   Director          15  220000\n"
          ]
        }
      ]
    },
    {
      "cell_type": "markdown",
      "source": [
        "Next we will obtain input and outputs by using iloc"
      ],
      "metadata": {
        "id": "o5ieWFQ-3v7Z"
      }
    },
    {
      "cell_type": "code",
      "source": [
        "X=df.iloc[:,1:-1]\n",
        "y=df.iloc[:,-1]\n",
        "print(X)\n",
        "print(y)"
      ],
      "metadata": {
        "colab": {
          "base_uri": "https://localhost:8080/"
        },
        "id": "79QqtlJ4_163",
        "outputId": "9fccf859-eed7-4efa-8cc0-61e7055b6963"
      },
      "execution_count": null,
      "outputs": [
        {
          "output_type": "stream",
          "name": "stdout",
          "text": [
            "   Experience\n",
            "0           1\n",
            "1           2\n",
            "2           3\n",
            "3           4\n",
            "4           5\n",
            "5           7\n",
            "6           9\n",
            "7          10\n",
            "8          12\n",
            "9          15\n",
            "0     50000\n",
            "1     55000\n",
            "2     85000\n",
            "3    100000\n",
            "4    125000\n",
            "5    120000\n",
            "6    135000\n",
            "7    140000\n",
            "8    120000\n",
            "9    220000\n",
            "Name: Salary, dtype: int64\n"
          ]
        }
      ]
    },
    {
      "cell_type": "markdown",
      "source": [
        "Linear Regression Model"
      ],
      "metadata": {
        "id": "7XOQfaxY4WSl"
      }
    },
    {
      "cell_type": "code",
      "source": [
        "from sklearn.linear_model import LinearRegression\n",
        "lr1=LinearRegression()\n",
        "lr2=LinearRegression()\n",
        "lr1.fit(X,y)"
      ],
      "metadata": {
        "colab": {
          "base_uri": "https://localhost:8080/"
        },
        "id": "9iJs8AN2AwCz",
        "outputId": "5e01766e-2894-4637-9bcf-9049af5fbfbd"
      },
      "execution_count": null,
      "outputs": [
        {
          "output_type": "execute_result",
          "data": {
            "text/plain": [
              "LinearRegression()"
            ]
          },
          "metadata": {},
          "execution_count": 33
        }
      ]
    },
    {
      "cell_type": "markdown",
      "source": [
        "Next we will see linear regression plot"
      ],
      "metadata": {
        "id": "3QKFdI0E4yjw"
      }
    },
    {
      "cell_type": "code",
      "source": [
        "plt.scatter(X,y)\n",
        "plt.plot(X,lr1.predict(X),color='orange')"
      ],
      "metadata": {
        "colab": {
          "base_uri": "https://localhost:8080/",
          "height": 282
        },
        "id": "t1gqdrhqBzx-",
        "outputId": "c94f1a5a-9778-4564-aab1-6d06c5a5df6f"
      },
      "execution_count": null,
      "outputs": [
        {
          "output_type": "execute_result",
          "data": {
            "text/plain": [
              "[<matplotlib.lines.Line2D at 0x7f5a19458090>]"
            ]
          },
          "metadata": {},
          "execution_count": 36
        },
        {
          "output_type": "display_data",
          "data": {
            "text/plain": [
              "<Figure size 432x288 with 1 Axes>"
            ],
            "image/png": "[encoded data removed]"
          },
          "metadata": {
            "needs_background": "light"
          }
        }
      ]
    },
    {
      "cell_type": "markdown",
      "source": [
        "Next we will make a polynomial regression"
      ],
      "metadata": {
        "id": "hSBUiJDF6Iky"
      }
    },
    {
      "cell_type": "code",
      "source": [
        "from sklearn.preprocessing import PolynomialFeatures\n",
        "pr=PolynomialFeatures(degree=5)\n",
        "Xp=pr.fit_transform(X)\n",
        "lr2.fit(Xp,y)\n",
        "plt.scatter(X,y)\n",
        "plt.plot(X,lr2.predict(Xp),color='orange')"
      ],
      "metadata": {
        "colab": {
          "base_uri": "https://localhost:8080/",
          "height": 282
        },
        "id": "R2xluHbfCVFN",
        "outputId": "936be974-66cf-466a-80c3-b714661bf184"
      },
      "execution_count": null,
      "outputs": [
        {
          "output_type": "execute_result",
          "data": {
            "text/plain": [
              "[<matplotlib.lines.Line2D at 0x7f5a19240110>]"
            ]
          },
          "metadata": {},
          "execution_count": 41
        },
        {
          "output_type": "display_data",
          "data": {
            "text/plain": [
              "<Figure size 432x288 with 1 Axes>"
            ],
            "image/png": "[encoded data removed]"
          },
          "metadata": {
            "needs_background": "light"
          }
        }
      ]
    },
    {
      "cell_type": "markdown",
      "source": [
        "Now we will do plot for continous x variables\n"
      ],
      "metadata": {
        "id": "P23fpWkw7w-h"
      }
    },
    {
      "cell_type": "code",
      "source": [
        "Xg = np.arange(min(X), max(X), 0.1)\n",
        "Xg = Xg.reshape((len(Xg), 1))\n",
        "plt.scatter(X, y, color = 'red')\n",
        "plt.plot(Xg, lr2.predict(pr.fit_transform(X_grid)), color = 'blue')\n",
        "plt.title('Experience Vs Salaries')\n",
        "plt.xlabel('Experience')\n",
        "plt.ylabel('Salary')\n",
        "plt.show()\n",
        "\n"
      ],
      "metadata": {
        "id": "yl079bQ1E2e2"
      },
      "execution_count": null,
      "outputs": []
    }
  ]
}